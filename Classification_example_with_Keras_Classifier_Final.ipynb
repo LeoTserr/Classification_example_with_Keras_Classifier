{
 "cells": [
  {
   "cell_type": "markdown",
   "metadata": {},
   "source": [
    "# Dataset Link: https://archive.ics.uci.edu/ml/datasets/Bank+Marketing\n",
    "# Attribute Information:\n",
    "\n",
    "## Input variables:\n",
    "### bank client data:\n",
    "\n",
    "### 1 - age (numeric)\n",
    "\n",
    "### 2 - job : type of job (categorical: 'admin.','blue-collar','entrepreneur','housemaid','management','retired','self-employed','services','student','technician','unemployed','unknown')\n",
    "\n",
    "### 3 - marital : marital status (categorical: 'divorced','married','single','unknown'; note: 'divorced' means divorced or widowed)\n",
    "\n",
    "### 4 - education (categorical: 'basic.4y','basic.6y','basic.9y','high.school','illiterate','professional.course','university.degree','unknown')\n",
    "\n",
    "### 5 - default: has credit in default? (categorical: 'no','yes','unknown')\n",
    "\n",
    "### 6 - housing: has housing loan? (categorical: 'no','yes','unknown')\n",
    "\n",
    "### 7 - loan: has personal loan? (categorical: 'no','yes','unknown')\n",
    "\n",
    "## Related with the last contact of the current campaign:\n",
    "### 8 - contact: contact communication type (categorical: 'cellular','telephone') \n",
    "\n",
    "### 9 - month: last contact month of year (categorical: 'jan', 'feb', 'mar', ..., 'nov', 'dec')\n",
    "\n",
    "### 10 - day_of_week: last contact day of the week (categorical: 'mon','tue','wed','thu','fri')\n",
    "\n",
    "### 11 - duration: last contact duration, in seconds (numeric). Important note: this attribute highly affects the output target (e.g., if duration=0 then y='no'). Yet, the duration is not known before a call is performed. Also, after the end of the call y is obviously known. Thus, this input should only be included for benchmark purposes and should be discarded if the intention is to have a realistic predictive model.\n",
    "\n",
    "## Other attributes:\n",
    "### 12 - campaign: number of contacts performed during this campaign and for this client (numeric, includes last contact)\n",
    "\n",
    "### 13 - pdays: number of days that passed by after the client was last contacted from a previous campaign (numeric; 999 means client was not previously contacted)\n",
    "\n",
    "### 14 - previous: number of contacts performed before this campaign and for this client (numeric)\n",
    "\n",
    "### 15 - poutcome: outcome of the previous marketing campaign (categorical: 'failure','nonexistent','success')\n",
    "\n",
    "## Social and economic context attributes\n",
    "### 16 - emp.var.rate: employment variation rate - quarterly indicator (numeric)\n",
    "\n",
    "### 17 - cons.price.idx: consumer price index - monthly indicator (numeric) \n",
    "\n",
    "### 18 - cons.conf.idx: consumer confidence index - monthly indicator (numeric) \n",
    "\n",
    "### 19 - euribor3m: euribor 3 month rate - daily indicator (numeric)\n",
    "\n",
    "### 20 - nr.employed: number of employees - quarterly indicator (numeric)\n",
    "\n",
    "## Output variable (desired target):\n",
    "### 21 - y - has the client subscribed a term deposit? (binary: 'yes','no')"
   ]
  },
  {
   "cell_type": "code",
   "execution_count": 1,
   "metadata": {
    "scrolled": true
   },
   "outputs": [
    {
     "name": "stderr",
     "output_type": "stream",
     "text": [
      "Using TensorFlow backend.\n"
     ]
    }
   ],
   "source": [
    "from sklearn.preprocessing import StandardScaler\n",
    "from sklearn.metrics import classification_report\n",
    "from sklearn.model_selection import train_test_split\n",
    "import pandas as pd\n",
    "import numpy as np\n",
    "from keras.models import Sequential\n",
    "from keras.layers import Dense, Dropout\n",
    "from keras import optimizers\n",
    "from sklearn.metrics import confusion_matrix\n",
    "import tensorflow as tf\n",
    "import keras\n",
    "from tensorflow.keras.callbacks import TensorBoard\n",
    "from sklearn.utils import class_weight\n",
    "from collections import Counter\n",
    "%matplotlib notebook\n",
    "import base64\n",
    "import sys\n",
    "sys.path.append('./python')\n",
    "from generic_feature_statistics_generator import GenericFeatureStatisticsGenerator\n",
    "from IPython.core.display import display, HTML\n",
    "import time"
   ]
  },
  {
   "cell_type": "markdown",
   "metadata": {},
   "source": [
    "## Import data"
   ]
  },
  {
   "cell_type": "code",
   "execution_count": 2,
   "metadata": {},
   "outputs": [],
   "source": [
    "df = pd.read_csv('bank-additional-full.csv', delimiter=';')"
   ]
  },
  {
   "cell_type": "code",
   "execution_count": 3,
   "metadata": {},
   "outputs": [],
   "source": [
    "df = df.drop('duration', axis=1)"
   ]
  },
  {
   "cell_type": "code",
   "execution_count": 4,
   "metadata": {},
   "outputs": [],
   "source": [
    "target = df['y'].replace(['yes', 'no'], (1,0))"
   ]
  },
  {
   "cell_type": "code",
   "execution_count": 5,
   "metadata": {},
   "outputs": [],
   "source": [
    "df_overview = df.copy()"
   ]
  },
  {
   "cell_type": "code",
   "execution_count": 6,
   "metadata": {},
   "outputs": [],
   "source": [
    "df_overview['y']= target"
   ]
  },
  {
   "cell_type": "code",
   "execution_count": 7,
   "metadata": {},
   "outputs": [
    {
     "data": {
      "text/html": [
       "<div>\n",
       "<style scoped>\n",
       "    .dataframe tbody tr th:only-of-type {\n",
       "        vertical-align: middle;\n",
       "    }\n",
       "\n",
       "    .dataframe tbody tr th {\n",
       "        vertical-align: top;\n",
       "    }\n",
       "\n",
       "    .dataframe thead th {\n",
       "        text-align: right;\n",
       "    }\n",
       "</style>\n",
       "<table border=\"1\" class=\"dataframe\">\n",
       "  <thead>\n",
       "    <tr style=\"text-align: right;\">\n",
       "      <th></th>\n",
       "      <th>age</th>\n",
       "      <th>job</th>\n",
       "      <th>marital</th>\n",
       "      <th>education</th>\n",
       "      <th>default</th>\n",
       "      <th>housing</th>\n",
       "      <th>loan</th>\n",
       "      <th>contact</th>\n",
       "      <th>month</th>\n",
       "      <th>day_of_week</th>\n",
       "      <th>campaign</th>\n",
       "      <th>pdays</th>\n",
       "      <th>previous</th>\n",
       "      <th>poutcome</th>\n",
       "      <th>emp.var.rate</th>\n",
       "      <th>cons.price.idx</th>\n",
       "      <th>cons.conf.idx</th>\n",
       "      <th>euribor3m</th>\n",
       "      <th>nr.employed</th>\n",
       "      <th>y</th>\n",
       "    </tr>\n",
       "  </thead>\n",
       "  <tbody>\n",
       "    <tr>\n",
       "      <th>0</th>\n",
       "      <td>56</td>\n",
       "      <td>housemaid</td>\n",
       "      <td>married</td>\n",
       "      <td>basic.4y</td>\n",
       "      <td>no</td>\n",
       "      <td>no</td>\n",
       "      <td>no</td>\n",
       "      <td>telephone</td>\n",
       "      <td>may</td>\n",
       "      <td>mon</td>\n",
       "      <td>1</td>\n",
       "      <td>999</td>\n",
       "      <td>0</td>\n",
       "      <td>nonexistent</td>\n",
       "      <td>1.1</td>\n",
       "      <td>93.994</td>\n",
       "      <td>-36.4</td>\n",
       "      <td>4.857</td>\n",
       "      <td>5191.0</td>\n",
       "      <td>0</td>\n",
       "    </tr>\n",
       "    <tr>\n",
       "      <th>1</th>\n",
       "      <td>57</td>\n",
       "      <td>services</td>\n",
       "      <td>married</td>\n",
       "      <td>high.school</td>\n",
       "      <td>unknown</td>\n",
       "      <td>no</td>\n",
       "      <td>no</td>\n",
       "      <td>telephone</td>\n",
       "      <td>may</td>\n",
       "      <td>mon</td>\n",
       "      <td>1</td>\n",
       "      <td>999</td>\n",
       "      <td>0</td>\n",
       "      <td>nonexistent</td>\n",
       "      <td>1.1</td>\n",
       "      <td>93.994</td>\n",
       "      <td>-36.4</td>\n",
       "      <td>4.857</td>\n",
       "      <td>5191.0</td>\n",
       "      <td>0</td>\n",
       "    </tr>\n",
       "    <tr>\n",
       "      <th>2</th>\n",
       "      <td>37</td>\n",
       "      <td>services</td>\n",
       "      <td>married</td>\n",
       "      <td>high.school</td>\n",
       "      <td>no</td>\n",
       "      <td>yes</td>\n",
       "      <td>no</td>\n",
       "      <td>telephone</td>\n",
       "      <td>may</td>\n",
       "      <td>mon</td>\n",
       "      <td>1</td>\n",
       "      <td>999</td>\n",
       "      <td>0</td>\n",
       "      <td>nonexistent</td>\n",
       "      <td>1.1</td>\n",
       "      <td>93.994</td>\n",
       "      <td>-36.4</td>\n",
       "      <td>4.857</td>\n",
       "      <td>5191.0</td>\n",
       "      <td>0</td>\n",
       "    </tr>\n",
       "    <tr>\n",
       "      <th>3</th>\n",
       "      <td>40</td>\n",
       "      <td>admin.</td>\n",
       "      <td>married</td>\n",
       "      <td>basic.6y</td>\n",
       "      <td>no</td>\n",
       "      <td>no</td>\n",
       "      <td>no</td>\n",
       "      <td>telephone</td>\n",
       "      <td>may</td>\n",
       "      <td>mon</td>\n",
       "      <td>1</td>\n",
       "      <td>999</td>\n",
       "      <td>0</td>\n",
       "      <td>nonexistent</td>\n",
       "      <td>1.1</td>\n",
       "      <td>93.994</td>\n",
       "      <td>-36.4</td>\n",
       "      <td>4.857</td>\n",
       "      <td>5191.0</td>\n",
       "      <td>0</td>\n",
       "    </tr>\n",
       "    <tr>\n",
       "      <th>4</th>\n",
       "      <td>56</td>\n",
       "      <td>services</td>\n",
       "      <td>married</td>\n",
       "      <td>high.school</td>\n",
       "      <td>no</td>\n",
       "      <td>no</td>\n",
       "      <td>yes</td>\n",
       "      <td>telephone</td>\n",
       "      <td>may</td>\n",
       "      <td>mon</td>\n",
       "      <td>1</td>\n",
       "      <td>999</td>\n",
       "      <td>0</td>\n",
       "      <td>nonexistent</td>\n",
       "      <td>1.1</td>\n",
       "      <td>93.994</td>\n",
       "      <td>-36.4</td>\n",
       "      <td>4.857</td>\n",
       "      <td>5191.0</td>\n",
       "      <td>0</td>\n",
       "    </tr>\n",
       "  </tbody>\n",
       "</table>\n",
       "</div>"
      ],
      "text/plain": [
       "   age        job  marital    education  default housing loan    contact  \\\n",
       "0   56  housemaid  married     basic.4y       no      no   no  telephone   \n",
       "1   57   services  married  high.school  unknown      no   no  telephone   \n",
       "2   37   services  married  high.school       no     yes   no  telephone   \n",
       "3   40     admin.  married     basic.6y       no      no   no  telephone   \n",
       "4   56   services  married  high.school       no      no  yes  telephone   \n",
       "\n",
       "  month day_of_week  campaign  pdays  previous     poutcome  emp.var.rate  \\\n",
       "0   may         mon         1    999         0  nonexistent           1.1   \n",
       "1   may         mon         1    999         0  nonexistent           1.1   \n",
       "2   may         mon         1    999         0  nonexistent           1.1   \n",
       "3   may         mon         1    999         0  nonexistent           1.1   \n",
       "4   may         mon         1    999         0  nonexistent           1.1   \n",
       "\n",
       "   cons.price.idx  cons.conf.idx  euribor3m  nr.employed  y  \n",
       "0          93.994          -36.4      4.857       5191.0  0  \n",
       "1          93.994          -36.4      4.857       5191.0  0  \n",
       "2          93.994          -36.4      4.857       5191.0  0  \n",
       "3          93.994          -36.4      4.857       5191.0  0  \n",
       "4          93.994          -36.4      4.857       5191.0  0  "
      ]
     },
     "execution_count": 7,
     "metadata": {},
     "output_type": "execute_result"
    }
   ],
   "source": [
    "df_overview.head()"
   ]
  },
  {
   "cell_type": "markdown",
   "metadata": {},
   "source": [
    "## Check data using : «facets: https://github.com/PAIR-code/facets»"
   ]
  },
  {
   "cell_type": "code",
   "execution_count": 8,
   "metadata": {},
   "outputs": [],
   "source": [
    "X_train_temp, X_test_temp, y_train_temp, y_test = train_test_split(df_overview, target, test_size=0.5)"
   ]
  },
  {
   "cell_type": "code",
   "execution_count": 9,
   "metadata": {},
   "outputs": [],
   "source": [
    "gfsg = GenericFeatureStatisticsGenerator()\n",
    "proto = gfsg.ProtoFromDataFrames([{'name': 'train', 'table': X_train_temp},\n",
    "                                  {'name': 'test', 'table': X_test_temp}])\n",
    "protostr = base64.b64encode(proto.SerializeToString()).decode(\"utf-8\")"
   ]
  },
  {
   "cell_type": "code",
   "execution_count": 10,
   "metadata": {
    "scrolled": false
   },
   "outputs": [
    {
     "data": {
      "text/html": [
       "<link rel=\"import\" href=\"https://raw.githubusercontent.com/PAIR-code/facets/master/facets-dist/facets-jupyter.html\" >\n",
       "        <facets-overview id=\"elem\"></facets-overview>\n",
       "        <script>\n",
       "          document.querySelector(\"#elem\").protoInput = \"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\";\n",
       "        </script>"
      ],
      "text/plain": [
       "<IPython.core.display.HTML object>"
      ]
     },
     "metadata": {},
     "output_type": "display_data"
    }
   ],
   "source": [
    "HTML_TEMPLATE = \"\"\"<link rel=\"import\" \n",
    "                href=\"https://raw.githubusercontent.com/PAIR-code/facets/master/facets-dist/facets-jupyter.html\" >\n",
    "        <facets-overview id=\"elem\"></facets-overview>\n",
    "        <script>\n",
    "          document.querySelector(\"#elem\").protoInput = \"{protostr}\";\n",
    "        </script>\"\"\"\n",
    "html = HTML_TEMPLATE.format(protostr=protostr)\n",
    "display(HTML(html))"
   ]
  },
  {
   "cell_type": "markdown",
   "metadata": {},
   "source": [
    "# Notes:\n",
    "### Column: 'previous'  have ~86% zero values.\n",
    "\n",
    "### Column: 'pdays' Frequency of :'999' 39673 times.\n",
    "\n",
    "### Column: 'default' { 'no': 32588 , 'unknown': 8597 'yes': 3 } yes:3 times.\n",
    "\n",
    "### Column: 'poutcome' Frequency value 'nonexistent': 35563 times\n",
    "\n",
    "### Column: 'y' Target/Label Imbalance dataset (0: 36548, 1: 4640) . Metrics to optimize : F1 ,recall etc but not accuracy"
   ]
  },
  {
   "cell_type": "code",
   "execution_count": 11,
   "metadata": {},
   "outputs": [
    {
     "name": "stdout",
     "output_type": "stream",
     "text": [
      "Class imbalance, Positives (1): 11.265417111780131 Percent\n"
     ]
    }
   ],
   "source": [
    "print('Class imbalance, Positives (1):',(100*(target.value_counts()[1] / (sum(Counter(target).values())))),'Percent')"
   ]
  },
  {
   "cell_type": "code",
   "execution_count": 12,
   "metadata": {},
   "outputs": [
    {
     "data": {
      "text/plain": [
       "Counter({0: 36548, 1: 4640})"
      ]
     },
     "execution_count": 12,
     "metadata": {},
     "output_type": "execute_result"
    }
   ],
   "source": [
    "Counter(target)"
   ]
  },
  {
   "cell_type": "code",
   "execution_count": 13,
   "metadata": {
    "scrolled": true
   },
   "outputs": [
    {
     "data": {
      "text/plain": [
       "Counter({999: 39673,\n",
       "         6: 412,\n",
       "         4: 118,\n",
       "         3: 439,\n",
       "         5: 46,\n",
       "         1: 26,\n",
       "         0: 15,\n",
       "         10: 52,\n",
       "         7: 60,\n",
       "         8: 18,\n",
       "         9: 64,\n",
       "         11: 28,\n",
       "         2: 61,\n",
       "         12: 58,\n",
       "         13: 36,\n",
       "         14: 20,\n",
       "         15: 24,\n",
       "         16: 11,\n",
       "         21: 2,\n",
       "         17: 8,\n",
       "         18: 7,\n",
       "         22: 3,\n",
       "         25: 1,\n",
       "         26: 1,\n",
       "         19: 3,\n",
       "         27: 1,\n",
       "         20: 1})"
      ]
     },
     "execution_count": 13,
     "metadata": {},
     "output_type": "execute_result"
    }
   ],
   "source": [
    "Counter(df['pdays'])"
   ]
  },
  {
   "cell_type": "code",
   "execution_count": 14,
   "metadata": {},
   "outputs": [
    {
     "data": {
      "text/plain": [
       "Counter({'nonexistent': 35563, 'failure': 4252, 'success': 1373})"
      ]
     },
     "execution_count": 14,
     "metadata": {},
     "output_type": "execute_result"
    }
   ],
   "source": [
    "Counter(df['poutcome'])"
   ]
  },
  {
   "cell_type": "code",
   "execution_count": 15,
   "metadata": {},
   "outputs": [
    {
     "data": {
      "text/plain": [
       "Counter({'no': 32588, 'unknown': 8597, 'yes': 3})"
      ]
     },
     "execution_count": 15,
     "metadata": {},
     "output_type": "execute_result"
    }
   ],
   "source": [
    "Counter(df['default'])"
   ]
  },
  {
   "cell_type": "markdown",
   "metadata": {},
   "source": [
    "## Based on the above info:"
   ]
  },
  {
   "cell_type": "code",
   "execution_count": 16,
   "metadata": {},
   "outputs": [],
   "source": [
    "x_data = df.drop(['y','default', 'previous','pdays','poutcome'], axis=1)"
   ]
  },
  {
   "cell_type": "code",
   "execution_count": 17,
   "metadata": {},
   "outputs": [],
   "source": [
    "target = df['y'].replace(['yes', 'no'], (1,0))"
   ]
  },
  {
   "cell_type": "markdown",
   "metadata": {},
   "source": [
    "## get_dummies()"
   ]
  },
  {
   "cell_type": "code",
   "execution_count": 18,
   "metadata": {},
   "outputs": [],
   "source": [
    "# Save column names if they are an object.\n",
    "cat_cols = []\n",
    "for c in x_data.columns:\n",
    "    if x_data[c].dtype == 'object':\n",
    "        cat_cols.append(c)"
   ]
  },
  {
   "cell_type": "code",
   "execution_count": 19,
   "metadata": {},
   "outputs": [
    {
     "data": {
      "text/plain": [
       "['job',\n",
       " 'marital',\n",
       " 'education',\n",
       " 'housing',\n",
       " 'loan',\n",
       " 'contact',\n",
       " 'month',\n",
       " 'day_of_week']"
      ]
     },
     "execution_count": 19,
     "metadata": {},
     "output_type": "execute_result"
    }
   ],
   "source": [
    "cat_cols"
   ]
  },
  {
   "cell_type": "code",
   "execution_count": 20,
   "metadata": {},
   "outputs": [],
   "source": [
    "for col in cat_cols: # \n",
    "    x_data = pd.get_dummies(x_data, columns=[col], drop_first=True)"
   ]
  },
  {
   "cell_type": "code",
   "execution_count": 21,
   "metadata": {
    "scrolled": true
   },
   "outputs": [
    {
     "data": {
      "text/html": [
       "<div>\n",
       "<style scoped>\n",
       "    .dataframe tbody tr th:only-of-type {\n",
       "        vertical-align: middle;\n",
       "    }\n",
       "\n",
       "    .dataframe tbody tr th {\n",
       "        vertical-align: top;\n",
       "    }\n",
       "\n",
       "    .dataframe thead th {\n",
       "        text-align: right;\n",
       "    }\n",
       "</style>\n",
       "<table border=\"1\" class=\"dataframe\">\n",
       "  <thead>\n",
       "    <tr style=\"text-align: right;\">\n",
       "      <th></th>\n",
       "      <th>age</th>\n",
       "      <th>campaign</th>\n",
       "      <th>emp.var.rate</th>\n",
       "      <th>cons.price.idx</th>\n",
       "      <th>cons.conf.idx</th>\n",
       "      <th>euribor3m</th>\n",
       "      <th>nr.employed</th>\n",
       "      <th>job_blue-collar</th>\n",
       "      <th>job_entrepreneur</th>\n",
       "      <th>job_housemaid</th>\n",
       "      <th>...</th>\n",
       "      <th>month_jun</th>\n",
       "      <th>month_mar</th>\n",
       "      <th>month_may</th>\n",
       "      <th>month_nov</th>\n",
       "      <th>month_oct</th>\n",
       "      <th>month_sep</th>\n",
       "      <th>day_of_week_mon</th>\n",
       "      <th>day_of_week_thu</th>\n",
       "      <th>day_of_week_tue</th>\n",
       "      <th>day_of_week_wed</th>\n",
       "    </tr>\n",
       "  </thead>\n",
       "  <tbody>\n",
       "    <tr>\n",
       "      <th>0</th>\n",
       "      <td>56</td>\n",
       "      <td>1</td>\n",
       "      <td>1.1</td>\n",
       "      <td>93.994</td>\n",
       "      <td>-36.4</td>\n",
       "      <td>4.857</td>\n",
       "      <td>5191.0</td>\n",
       "      <td>0</td>\n",
       "      <td>0</td>\n",
       "      <td>1</td>\n",
       "      <td>...</td>\n",
       "      <td>0</td>\n",
       "      <td>0</td>\n",
       "      <td>1</td>\n",
       "      <td>0</td>\n",
       "      <td>0</td>\n",
       "      <td>0</td>\n",
       "      <td>1</td>\n",
       "      <td>0</td>\n",
       "      <td>0</td>\n",
       "      <td>0</td>\n",
       "    </tr>\n",
       "    <tr>\n",
       "      <th>1</th>\n",
       "      <td>57</td>\n",
       "      <td>1</td>\n",
       "      <td>1.1</td>\n",
       "      <td>93.994</td>\n",
       "      <td>-36.4</td>\n",
       "      <td>4.857</td>\n",
       "      <td>5191.0</td>\n",
       "      <td>0</td>\n",
       "      <td>0</td>\n",
       "      <td>0</td>\n",
       "      <td>...</td>\n",
       "      <td>0</td>\n",
       "      <td>0</td>\n",
       "      <td>1</td>\n",
       "      <td>0</td>\n",
       "      <td>0</td>\n",
       "      <td>0</td>\n",
       "      <td>1</td>\n",
       "      <td>0</td>\n",
       "      <td>0</td>\n",
       "      <td>0</td>\n",
       "    </tr>\n",
       "    <tr>\n",
       "      <th>2</th>\n",
       "      <td>37</td>\n",
       "      <td>1</td>\n",
       "      <td>1.1</td>\n",
       "      <td>93.994</td>\n",
       "      <td>-36.4</td>\n",
       "      <td>4.857</td>\n",
       "      <td>5191.0</td>\n",
       "      <td>0</td>\n",
       "      <td>0</td>\n",
       "      <td>0</td>\n",
       "      <td>...</td>\n",
       "      <td>0</td>\n",
       "      <td>0</td>\n",
       "      <td>1</td>\n",
       "      <td>0</td>\n",
       "      <td>0</td>\n",
       "      <td>0</td>\n",
       "      <td>1</td>\n",
       "      <td>0</td>\n",
       "      <td>0</td>\n",
       "      <td>0</td>\n",
       "    </tr>\n",
       "    <tr>\n",
       "      <th>3</th>\n",
       "      <td>40</td>\n",
       "      <td>1</td>\n",
       "      <td>1.1</td>\n",
       "      <td>93.994</td>\n",
       "      <td>-36.4</td>\n",
       "      <td>4.857</td>\n",
       "      <td>5191.0</td>\n",
       "      <td>0</td>\n",
       "      <td>0</td>\n",
       "      <td>0</td>\n",
       "      <td>...</td>\n",
       "      <td>0</td>\n",
       "      <td>0</td>\n",
       "      <td>1</td>\n",
       "      <td>0</td>\n",
       "      <td>0</td>\n",
       "      <td>0</td>\n",
       "      <td>1</td>\n",
       "      <td>0</td>\n",
       "      <td>0</td>\n",
       "      <td>0</td>\n",
       "    </tr>\n",
       "    <tr>\n",
       "      <th>4</th>\n",
       "      <td>56</td>\n",
       "      <td>1</td>\n",
       "      <td>1.1</td>\n",
       "      <td>93.994</td>\n",
       "      <td>-36.4</td>\n",
       "      <td>4.857</td>\n",
       "      <td>5191.0</td>\n",
       "      <td>0</td>\n",
       "      <td>0</td>\n",
       "      <td>0</td>\n",
       "      <td>...</td>\n",
       "      <td>0</td>\n",
       "      <td>0</td>\n",
       "      <td>1</td>\n",
       "      <td>0</td>\n",
       "      <td>0</td>\n",
       "      <td>0</td>\n",
       "      <td>1</td>\n",
       "      <td>0</td>\n",
       "      <td>0</td>\n",
       "      <td>0</td>\n",
       "    </tr>\n",
       "  </tbody>\n",
       "</table>\n",
       "<p>5 rows × 46 columns</p>\n",
       "</div>"
      ],
      "text/plain": [
       "   age  campaign  emp.var.rate  cons.price.idx  cons.conf.idx  euribor3m  \\\n",
       "0   56         1           1.1          93.994          -36.4      4.857   \n",
       "1   57         1           1.1          93.994          -36.4      4.857   \n",
       "2   37         1           1.1          93.994          -36.4      4.857   \n",
       "3   40         1           1.1          93.994          -36.4      4.857   \n",
       "4   56         1           1.1          93.994          -36.4      4.857   \n",
       "\n",
       "   nr.employed  job_blue-collar  job_entrepreneur  job_housemaid  \\\n",
       "0       5191.0                0                 0              1   \n",
       "1       5191.0                0                 0              0   \n",
       "2       5191.0                0                 0              0   \n",
       "3       5191.0                0                 0              0   \n",
       "4       5191.0                0                 0              0   \n",
       "\n",
       "        ...         month_jun  month_mar  month_may  month_nov  month_oct  \\\n",
       "0       ...                 0          0          1          0          0   \n",
       "1       ...                 0          0          1          0          0   \n",
       "2       ...                 0          0          1          0          0   \n",
       "3       ...                 0          0          1          0          0   \n",
       "4       ...                 0          0          1          0          0   \n",
       "\n",
       "   month_sep  day_of_week_mon  day_of_week_thu  day_of_week_tue  \\\n",
       "0          0                1                0                0   \n",
       "1          0                1                0                0   \n",
       "2          0                1                0                0   \n",
       "3          0                1                0                0   \n",
       "4          0                1                0                0   \n",
       "\n",
       "   day_of_week_wed  \n",
       "0                0  \n",
       "1                0  \n",
       "2                0  \n",
       "3                0  \n",
       "4                0  \n",
       "\n",
       "[5 rows x 46 columns]"
      ]
     },
     "execution_count": 21,
     "metadata": {},
     "output_type": "execute_result"
    }
   ],
   "source": [
    "x_data.head()"
   ]
  },
  {
   "cell_type": "markdown",
   "metadata": {},
   "source": [
    "## Data split 50/50"
   ]
  },
  {
   "cell_type": "code",
   "execution_count": 22,
   "metadata": {},
   "outputs": [],
   "source": [
    "X_train, X_test, y_train, y_test = train_test_split(x_data, target, test_size=0.5)"
   ]
  },
  {
   "cell_type": "markdown",
   "metadata": {},
   "source": [
    "## Normalization using StandarScaler()"
   ]
  },
  {
   "cell_type": "code",
   "execution_count": 23,
   "metadata": {},
   "outputs": [],
   "source": [
    "scaler = StandardScaler()"
   ]
  },
  {
   "cell_type": "code",
   "execution_count": 24,
   "metadata": {},
   "outputs": [
    {
     "name": "stderr",
     "output_type": "stream",
     "text": [
      "c:\\program files (x86)\\microsoft visual studio\\shared\\python36_64\\lib\\site-packages\\sklearn\\preprocessing\\data.py:625: DataConversionWarning: Data with input dtype uint8, int64, float64 were all converted to float64 by StandardScaler.\n",
      "  return self.partial_fit(X, y)\n"
     ]
    },
    {
     "data": {
      "text/plain": [
       "StandardScaler(copy=True, with_mean=True, with_std=True)"
      ]
     },
     "execution_count": 24,
     "metadata": {},
     "output_type": "execute_result"
    }
   ],
   "source": [
    "scaler.fit(X_train)"
   ]
  },
  {
   "cell_type": "code",
   "execution_count": 25,
   "metadata": {},
   "outputs": [
    {
     "name": "stderr",
     "output_type": "stream",
     "text": [
      "c:\\program files (x86)\\microsoft visual studio\\shared\\python36_64\\lib\\site-packages\\ipykernel_launcher.py:1: DataConversionWarning: Data with input dtype uint8, int64, float64 were all converted to float64 by StandardScaler.\n",
      "  \"\"\"Entry point for launching an IPython kernel.\n"
     ]
    }
   ],
   "source": [
    "X_train = pd.DataFrame(scaler.transform(X_train),\n",
    "                              columns=X_train.columns,\n",
    "                              index=X_train.index)"
   ]
  },
  {
   "cell_type": "code",
   "execution_count": 26,
   "metadata": {},
   "outputs": [
    {
     "data": {
      "text/html": [
       "<div>\n",
       "<style scoped>\n",
       "    .dataframe tbody tr th:only-of-type {\n",
       "        vertical-align: middle;\n",
       "    }\n",
       "\n",
       "    .dataframe tbody tr th {\n",
       "        vertical-align: top;\n",
       "    }\n",
       "\n",
       "    .dataframe thead th {\n",
       "        text-align: right;\n",
       "    }\n",
       "</style>\n",
       "<table border=\"1\" class=\"dataframe\">\n",
       "  <thead>\n",
       "    <tr style=\"text-align: right;\">\n",
       "      <th></th>\n",
       "      <th>age</th>\n",
       "      <th>campaign</th>\n",
       "      <th>emp.var.rate</th>\n",
       "      <th>cons.price.idx</th>\n",
       "      <th>cons.conf.idx</th>\n",
       "      <th>euribor3m</th>\n",
       "      <th>nr.employed</th>\n",
       "      <th>job_blue-collar</th>\n",
       "      <th>job_entrepreneur</th>\n",
       "      <th>job_housemaid</th>\n",
       "      <th>...</th>\n",
       "      <th>month_jun</th>\n",
       "      <th>month_mar</th>\n",
       "      <th>month_may</th>\n",
       "      <th>month_nov</th>\n",
       "      <th>month_oct</th>\n",
       "      <th>month_sep</th>\n",
       "      <th>day_of_week_mon</th>\n",
       "      <th>day_of_week_thu</th>\n",
       "      <th>day_of_week_tue</th>\n",
       "      <th>day_of_week_wed</th>\n",
       "    </tr>\n",
       "  </thead>\n",
       "  <tbody>\n",
       "    <tr>\n",
       "      <th>7591</th>\n",
       "      <td>-0.290596</td>\n",
       "      <td>-0.204672</td>\n",
       "      <td>0.644636</td>\n",
       "      <td>0.717202</td>\n",
       "      <td>0.870195</td>\n",
       "      <td>0.713409</td>\n",
       "      <td>0.329873</td>\n",
       "      <td>-0.536516</td>\n",
       "      <td>-0.195348</td>\n",
       "      <td>-0.16174</td>\n",
       "      <td>...</td>\n",
       "      <td>-0.389106</td>\n",
       "      <td>-0.105807</td>\n",
       "      <td>1.406778</td>\n",
       "      <td>-0.330503</td>\n",
       "      <td>-0.138936</td>\n",
       "      <td>-0.119092</td>\n",
       "      <td>-0.507743</td>\n",
       "      <td>-0.51839</td>\n",
       "      <td>-0.497890</td>\n",
       "      <td>-0.495763</td>\n",
       "    </tr>\n",
       "    <tr>\n",
       "      <th>34911</th>\n",
       "      <td>-0.769046</td>\n",
       "      <td>0.149501</td>\n",
       "      <td>-1.194173</td>\n",
       "      <td>-1.174920</td>\n",
       "      <td>-1.239625</td>\n",
       "      <td>-1.371713</td>\n",
       "      <td>-0.945589</td>\n",
       "      <td>-0.536516</td>\n",
       "      <td>-0.195348</td>\n",
       "      <td>-0.16174</td>\n",
       "      <td>...</td>\n",
       "      <td>-0.389106</td>\n",
       "      <td>-0.105807</td>\n",
       "      <td>1.406778</td>\n",
       "      <td>-0.330503</td>\n",
       "      <td>-0.138936</td>\n",
       "      <td>-0.119092</td>\n",
       "      <td>-0.507743</td>\n",
       "      <td>-0.51839</td>\n",
       "      <td>-0.497890</td>\n",
       "      <td>-0.495763</td>\n",
       "    </tr>\n",
       "    <tr>\n",
       "      <th>20668</th>\n",
       "      <td>0.187853</td>\n",
       "      <td>-0.558846</td>\n",
       "      <td>0.834857</td>\n",
       "      <td>-0.228000</td>\n",
       "      <td>0.934781</td>\n",
       "      <td>0.771681</td>\n",
       "      <td>0.844776</td>\n",
       "      <td>-0.536516</td>\n",
       "      <td>-0.195348</td>\n",
       "      <td>-0.16174</td>\n",
       "      <td>...</td>\n",
       "      <td>-0.389106</td>\n",
       "      <td>-0.105807</td>\n",
       "      <td>-0.710844</td>\n",
       "      <td>-0.330503</td>\n",
       "      <td>-0.138936</td>\n",
       "      <td>-0.119092</td>\n",
       "      <td>-0.507743</td>\n",
       "      <td>-0.51839</td>\n",
       "      <td>-0.497890</td>\n",
       "      <td>2.017094</td>\n",
       "    </tr>\n",
       "    <tr>\n",
       "      <th>37038</th>\n",
       "      <td>-0.673356</td>\n",
       "      <td>-0.558846</td>\n",
       "      <td>-1.891652</td>\n",
       "      <td>-1.903585</td>\n",
       "      <td>1.473000</td>\n",
       "      <td>-1.490566</td>\n",
       "      <td>-1.263413</td>\n",
       "      <td>-0.536516</td>\n",
       "      <td>-0.195348</td>\n",
       "      <td>-0.16174</td>\n",
       "      <td>...</td>\n",
       "      <td>-0.389106</td>\n",
       "      <td>-0.105807</td>\n",
       "      <td>-0.710844</td>\n",
       "      <td>-0.330503</td>\n",
       "      <td>-0.138936</td>\n",
       "      <td>-0.119092</td>\n",
       "      <td>-0.507743</td>\n",
       "      <td>-0.51839</td>\n",
       "      <td>2.008476</td>\n",
       "      <td>-0.495763</td>\n",
       "    </tr>\n",
       "    <tr>\n",
       "      <th>19267</th>\n",
       "      <td>-0.386286</td>\n",
       "      <td>-0.558846</td>\n",
       "      <td>0.834857</td>\n",
       "      <td>-0.228000</td>\n",
       "      <td>0.934781</td>\n",
       "      <td>0.772835</td>\n",
       "      <td>0.844776</td>\n",
       "      <td>-0.536516</td>\n",
       "      <td>-0.195348</td>\n",
       "      <td>-0.16174</td>\n",
       "      <td>...</td>\n",
       "      <td>-0.389106</td>\n",
       "      <td>-0.105807</td>\n",
       "      <td>-0.710844</td>\n",
       "      <td>-0.330503</td>\n",
       "      <td>-0.138936</td>\n",
       "      <td>-0.119092</td>\n",
       "      <td>-0.507743</td>\n",
       "      <td>-0.51839</td>\n",
       "      <td>-0.497890</td>\n",
       "      <td>2.017094</td>\n",
       "    </tr>\n",
       "  </tbody>\n",
       "</table>\n",
       "<p>5 rows × 46 columns</p>\n",
       "</div>"
      ],
      "text/plain": [
       "            age  campaign  emp.var.rate  cons.price.idx  cons.conf.idx  \\\n",
       "7591  -0.290596 -0.204672      0.644636        0.717202       0.870195   \n",
       "34911 -0.769046  0.149501     -1.194173       -1.174920      -1.239625   \n",
       "20668  0.187853 -0.558846      0.834857       -0.228000       0.934781   \n",
       "37038 -0.673356 -0.558846     -1.891652       -1.903585       1.473000   \n",
       "19267 -0.386286 -0.558846      0.834857       -0.228000       0.934781   \n",
       "\n",
       "       euribor3m  nr.employed  job_blue-collar  job_entrepreneur  \\\n",
       "7591    0.713409     0.329873        -0.536516         -0.195348   \n",
       "34911  -1.371713    -0.945589        -0.536516         -0.195348   \n",
       "20668   0.771681     0.844776        -0.536516         -0.195348   \n",
       "37038  -1.490566    -1.263413        -0.536516         -0.195348   \n",
       "19267   0.772835     0.844776        -0.536516         -0.195348   \n",
       "\n",
       "       job_housemaid       ...         month_jun  month_mar  month_may  \\\n",
       "7591        -0.16174       ...         -0.389106  -0.105807   1.406778   \n",
       "34911       -0.16174       ...         -0.389106  -0.105807   1.406778   \n",
       "20668       -0.16174       ...         -0.389106  -0.105807  -0.710844   \n",
       "37038       -0.16174       ...         -0.389106  -0.105807  -0.710844   \n",
       "19267       -0.16174       ...         -0.389106  -0.105807  -0.710844   \n",
       "\n",
       "       month_nov  month_oct  month_sep  day_of_week_mon  day_of_week_thu  \\\n",
       "7591   -0.330503  -0.138936  -0.119092        -0.507743         -0.51839   \n",
       "34911  -0.330503  -0.138936  -0.119092        -0.507743         -0.51839   \n",
       "20668  -0.330503  -0.138936  -0.119092        -0.507743         -0.51839   \n",
       "37038  -0.330503  -0.138936  -0.119092        -0.507743         -0.51839   \n",
       "19267  -0.330503  -0.138936  -0.119092        -0.507743         -0.51839   \n",
       "\n",
       "       day_of_week_tue  day_of_week_wed  \n",
       "7591         -0.497890        -0.495763  \n",
       "34911        -0.497890        -0.495763  \n",
       "20668        -0.497890         2.017094  \n",
       "37038         2.008476        -0.495763  \n",
       "19267        -0.497890         2.017094  \n",
       "\n",
       "[5 rows x 46 columns]"
      ]
     },
     "execution_count": 26,
     "metadata": {},
     "output_type": "execute_result"
    }
   ],
   "source": [
    "X_train.head()"
   ]
  },
  {
   "cell_type": "code",
   "execution_count": 27,
   "metadata": {},
   "outputs": [
    {
     "name": "stderr",
     "output_type": "stream",
     "text": [
      "c:\\program files (x86)\\microsoft visual studio\\shared\\python36_64\\lib\\site-packages\\ipykernel_launcher.py:1: DataConversionWarning: Data with input dtype uint8, int64, float64 were all converted to float64 by StandardScaler.\n",
      "  \"\"\"Entry point for launching an IPython kernel.\n"
     ]
    }
   ],
   "source": [
    "X_test = pd.DataFrame(scaler.transform(X_test),\n",
    "                             columns=X_test.columns,\n",
    "                             index=X_test.index)"
   ]
  },
  {
   "cell_type": "code",
   "execution_count": 28,
   "metadata": {
    "scrolled": true
   },
   "outputs": [
    {
     "data": {
      "text/html": [
       "<div>\n",
       "<style scoped>\n",
       "    .dataframe tbody tr th:only-of-type {\n",
       "        vertical-align: middle;\n",
       "    }\n",
       "\n",
       "    .dataframe tbody tr th {\n",
       "        vertical-align: top;\n",
       "    }\n",
       "\n",
       "    .dataframe thead th {\n",
       "        text-align: right;\n",
       "    }\n",
       "</style>\n",
       "<table border=\"1\" class=\"dataframe\">\n",
       "  <thead>\n",
       "    <tr style=\"text-align: right;\">\n",
       "      <th></th>\n",
       "      <th>age</th>\n",
       "      <th>campaign</th>\n",
       "      <th>emp.var.rate</th>\n",
       "      <th>cons.price.idx</th>\n",
       "      <th>cons.conf.idx</th>\n",
       "      <th>euribor3m</th>\n",
       "      <th>nr.employed</th>\n",
       "      <th>job_blue-collar</th>\n",
       "      <th>job_entrepreneur</th>\n",
       "      <th>job_housemaid</th>\n",
       "      <th>...</th>\n",
       "      <th>month_jun</th>\n",
       "      <th>month_mar</th>\n",
       "      <th>month_may</th>\n",
       "      <th>month_nov</th>\n",
       "      <th>month_oct</th>\n",
       "      <th>month_sep</th>\n",
       "      <th>day_of_week_mon</th>\n",
       "      <th>day_of_week_thu</th>\n",
       "      <th>day_of_week_tue</th>\n",
       "      <th>day_of_week_wed</th>\n",
       "    </tr>\n",
       "  </thead>\n",
       "  <tbody>\n",
       "    <tr>\n",
       "      <th>28996</th>\n",
       "      <td>0.570613</td>\n",
       "      <td>-0.558846</td>\n",
       "      <td>-1.194173</td>\n",
       "      <td>-0.862144</td>\n",
       "      <td>-1.433384</td>\n",
       "      <td>-1.282284</td>\n",
       "      <td>-0.945589</td>\n",
       "      <td>-0.536516</td>\n",
       "      <td>-0.195348</td>\n",
       "      <td>-0.161740</td>\n",
       "      <td>...</td>\n",
       "      <td>-0.389106</td>\n",
       "      <td>-0.105807</td>\n",
       "      <td>-0.710844</td>\n",
       "      <td>-0.330503</td>\n",
       "      <td>-0.138936</td>\n",
       "      <td>-0.119092</td>\n",
       "      <td>-0.507743</td>\n",
       "      <td>-0.51839</td>\n",
       "      <td>-0.497890</td>\n",
       "      <td>-0.495763</td>\n",
       "    </tr>\n",
       "    <tr>\n",
       "      <th>32422</th>\n",
       "      <td>-0.769046</td>\n",
       "      <td>-0.204672</td>\n",
       "      <td>-1.194173</td>\n",
       "      <td>-1.174920</td>\n",
       "      <td>-1.239625</td>\n",
       "      <td>-1.335364</td>\n",
       "      <td>-0.945589</td>\n",
       "      <td>-0.536516</td>\n",
       "      <td>-0.195348</td>\n",
       "      <td>-0.161740</td>\n",
       "      <td>...</td>\n",
       "      <td>-0.389106</td>\n",
       "      <td>-0.105807</td>\n",
       "      <td>1.406778</td>\n",
       "      <td>-0.330503</td>\n",
       "      <td>-0.138936</td>\n",
       "      <td>-0.119092</td>\n",
       "      <td>-0.507743</td>\n",
       "      <td>-0.51839</td>\n",
       "      <td>-0.497890</td>\n",
       "      <td>-0.495763</td>\n",
       "    </tr>\n",
       "    <tr>\n",
       "      <th>30974</th>\n",
       "      <td>-0.769046</td>\n",
       "      <td>2.274542</td>\n",
       "      <td>-1.194173</td>\n",
       "      <td>-1.174920</td>\n",
       "      <td>-1.239625</td>\n",
       "      <td>-1.317479</td>\n",
       "      <td>-0.945589</td>\n",
       "      <td>-0.536516</td>\n",
       "      <td>-0.195348</td>\n",
       "      <td>-0.161740</td>\n",
       "      <td>...</td>\n",
       "      <td>-0.389106</td>\n",
       "      <td>-0.105807</td>\n",
       "      <td>1.406778</td>\n",
       "      <td>-0.330503</td>\n",
       "      <td>-0.138936</td>\n",
       "      <td>-0.119092</td>\n",
       "      <td>-0.507743</td>\n",
       "      <td>-0.51839</td>\n",
       "      <td>2.008476</td>\n",
       "      <td>-0.495763</td>\n",
       "    </tr>\n",
       "    <tr>\n",
       "      <th>574</th>\n",
       "      <td>0.474923</td>\n",
       "      <td>-0.204672</td>\n",
       "      <td>0.644636</td>\n",
       "      <td>0.717202</td>\n",
       "      <td>0.870195</td>\n",
       "      <td>0.709370</td>\n",
       "      <td>0.329873</td>\n",
       "      <td>-0.536516</td>\n",
       "      <td>-0.195348</td>\n",
       "      <td>6.182772</td>\n",
       "      <td>...</td>\n",
       "      <td>-0.389106</td>\n",
       "      <td>-0.105807</td>\n",
       "      <td>1.406778</td>\n",
       "      <td>-0.330503</td>\n",
       "      <td>-0.138936</td>\n",
       "      <td>-0.119092</td>\n",
       "      <td>-0.507743</td>\n",
       "      <td>-0.51839</td>\n",
       "      <td>2.008476</td>\n",
       "      <td>-0.495763</td>\n",
       "    </tr>\n",
       "    <tr>\n",
       "      <th>5919</th>\n",
       "      <td>-0.003527</td>\n",
       "      <td>-0.204672</td>\n",
       "      <td>0.644636</td>\n",
       "      <td>0.717202</td>\n",
       "      <td>0.870195</td>\n",
       "      <td>0.709370</td>\n",
       "      <td>0.329873</td>\n",
       "      <td>1.863877</td>\n",
       "      <td>-0.195348</td>\n",
       "      <td>-0.161740</td>\n",
       "      <td>...</td>\n",
       "      <td>-0.389106</td>\n",
       "      <td>-0.105807</td>\n",
       "      <td>1.406778</td>\n",
       "      <td>-0.330503</td>\n",
       "      <td>-0.138936</td>\n",
       "      <td>-0.119092</td>\n",
       "      <td>-0.507743</td>\n",
       "      <td>-0.51839</td>\n",
       "      <td>2.008476</td>\n",
       "      <td>-0.495763</td>\n",
       "    </tr>\n",
       "  </tbody>\n",
       "</table>\n",
       "<p>5 rows × 46 columns</p>\n",
       "</div>"
      ],
      "text/plain": [
       "            age  campaign  emp.var.rate  cons.price.idx  cons.conf.idx  \\\n",
       "28996  0.570613 -0.558846     -1.194173       -0.862144      -1.433384   \n",
       "32422 -0.769046 -0.204672     -1.194173       -1.174920      -1.239625   \n",
       "30974 -0.769046  2.274542     -1.194173       -1.174920      -1.239625   \n",
       "574    0.474923 -0.204672      0.644636        0.717202       0.870195   \n",
       "5919  -0.003527 -0.204672      0.644636        0.717202       0.870195   \n",
       "\n",
       "       euribor3m  nr.employed  job_blue-collar  job_entrepreneur  \\\n",
       "28996  -1.282284    -0.945589        -0.536516         -0.195348   \n",
       "32422  -1.335364    -0.945589        -0.536516         -0.195348   \n",
       "30974  -1.317479    -0.945589        -0.536516         -0.195348   \n",
       "574     0.709370     0.329873        -0.536516         -0.195348   \n",
       "5919    0.709370     0.329873         1.863877         -0.195348   \n",
       "\n",
       "       job_housemaid       ...         month_jun  month_mar  month_may  \\\n",
       "28996      -0.161740       ...         -0.389106  -0.105807  -0.710844   \n",
       "32422      -0.161740       ...         -0.389106  -0.105807   1.406778   \n",
       "30974      -0.161740       ...         -0.389106  -0.105807   1.406778   \n",
       "574         6.182772       ...         -0.389106  -0.105807   1.406778   \n",
       "5919       -0.161740       ...         -0.389106  -0.105807   1.406778   \n",
       "\n",
       "       month_nov  month_oct  month_sep  day_of_week_mon  day_of_week_thu  \\\n",
       "28996  -0.330503  -0.138936  -0.119092        -0.507743         -0.51839   \n",
       "32422  -0.330503  -0.138936  -0.119092        -0.507743         -0.51839   \n",
       "30974  -0.330503  -0.138936  -0.119092        -0.507743         -0.51839   \n",
       "574    -0.330503  -0.138936  -0.119092        -0.507743         -0.51839   \n",
       "5919   -0.330503  -0.138936  -0.119092        -0.507743         -0.51839   \n",
       "\n",
       "       day_of_week_tue  day_of_week_wed  \n",
       "28996        -0.497890        -0.495763  \n",
       "32422        -0.497890        -0.495763  \n",
       "30974         2.008476        -0.495763  \n",
       "574           2.008476        -0.495763  \n",
       "5919          2.008476        -0.495763  \n",
       "\n",
       "[5 rows x 46 columns]"
      ]
     },
     "execution_count": 28,
     "metadata": {},
     "output_type": "execute_result"
    }
   ],
   "source": [
    "X_test.head()"
   ]
  },
  {
   "cell_type": "markdown",
   "metadata": {},
   "source": [
    "# Sequential Model"
   ]
  },
  {
   "cell_type": "code",
   "execution_count": 29,
   "metadata": {},
   "outputs": [],
   "source": [
    "model = Sequential()\n",
    "model.add(Dense(46, input_dim=46, activation='relu'))\n",
    "model.add(Dropout(0.3))\n",
    "model.add(Dense(32, activation='relu'))\n",
    "model.add(Dropout(0.3))\n",
    "model.add(Dense(32, activation='relu'))\n",
    "model.add(Dropout(0.3))\n",
    "model.add(Dense(1, activation='sigmoid'))"
   ]
  },
  {
   "cell_type": "code",
   "execution_count": 30,
   "metadata": {
    "scrolled": true
   },
   "outputs": [
    {
     "name": "stdout",
     "output_type": "stream",
     "text": [
      "_________________________________________________________________\n",
      "Layer (type)                 Output Shape              Param #   \n",
      "=================================================================\n",
      "dense_1 (Dense)              (None, 46)                2162      \n",
      "_________________________________________________________________\n",
      "dropout_1 (Dropout)          (None, 46)                0         \n",
      "_________________________________________________________________\n",
      "dense_2 (Dense)              (None, 32)                1504      \n",
      "_________________________________________________________________\n",
      "dropout_2 (Dropout)          (None, 32)                0         \n",
      "_________________________________________________________________\n",
      "dense_3 (Dense)              (None, 32)                1056      \n",
      "_________________________________________________________________\n",
      "dropout_3 (Dropout)          (None, 32)                0         \n",
      "_________________________________________________________________\n",
      "dense_4 (Dense)              (None, 1)                 33        \n",
      "=================================================================\n",
      "Total params: 4,755\n",
      "Trainable params: 4,755\n",
      "Non-trainable params: 0\n",
      "_________________________________________________________________\n"
     ]
    }
   ],
   "source": [
    "model.summary()"
   ]
  },
  {
   "cell_type": "code",
   "execution_count": 31,
   "metadata": {},
   "outputs": [],
   "source": [
    "model.compile(loss='binary_crossentropy',\n",
    "              optimizer=optimizers.adam(lr=0.01),\n",
    "              metrics=['accuracy'])"
   ]
  },
  {
   "cell_type": "markdown",
   "metadata": {},
   "source": [
    "## Calculate the weights"
   ]
  },
  {
   "cell_type": "code",
   "execution_count": 32,
   "metadata": {},
   "outputs": [],
   "source": [
    "class_weights = class_weight.compute_class_weight('balanced',\n",
    "                                                 np.unique(y_train),\n",
    "                                                 y_train)"
   ]
  },
  {
   "cell_type": "code",
   "execution_count": 33,
   "metadata": {},
   "outputs": [
    {
     "data": {
      "text/plain": [
       "array([0.5627391, 4.4847561])"
      ]
     },
     "execution_count": 33,
     "metadata": {},
     "output_type": "execute_result"
    }
   ],
   "source": [
    "class_weights"
   ]
  },
  {
   "cell_type": "code",
   "execution_count": 34,
   "metadata": {},
   "outputs": [],
   "source": [
    "wght= {0:class_weights[0],1:class_weights[1]}"
   ]
  },
  {
   "cell_type": "code",
   "execution_count": 35,
   "metadata": {},
   "outputs": [
    {
     "data": {
      "text/plain": [
       "{0: 0.5627390971690895, 1: 4.484756097560975}"
      ]
     },
     "execution_count": 35,
     "metadata": {},
     "output_type": "execute_result"
    }
   ],
   "source": [
    "wght"
   ]
  },
  {
   "cell_type": "markdown",
   "metadata": {},
   "source": [
    "## Train"
   ]
  },
  {
   "cell_type": "code",
   "execution_count": 37,
   "metadata": {},
   "outputs": [],
   "source": [
    "keras.backend.get_session().run(tf.global_variables_initializer())"
   ]
  },
  {
   "cell_type": "code",
   "execution_count": 48,
   "metadata": {
    "scrolled": true
   },
   "outputs": [
    {
     "name": "stdout",
     "output_type": "stream",
     "text": [
      "Train on 14415 samples, validate on 6179 samples\n",
      "Epoch 1/10\n",
      " - 0s - loss: 0.5531 - acc: 0.8257 - val_loss: 0.5299 - val_acc: 0.8461\n",
      "Epoch 2/10\n",
      " - 0s - loss: 0.5552 - acc: 0.8180 - val_loss: 0.5247 - val_acc: 0.8411\n",
      "Epoch 3/10\n",
      " - 0s - loss: 0.5565 - acc: 0.8181 - val_loss: 0.5399 - val_acc: 0.8388\n",
      "Epoch 4/10\n",
      " - 0s - loss: 0.5553 - acc: 0.8300 - val_loss: 0.5330 - val_acc: 0.8395\n",
      "Epoch 5/10\n",
      " - 0s - loss: 0.5561 - acc: 0.8148 - val_loss: 0.5294 - val_acc: 0.8217\n",
      "Epoch 6/10\n",
      " - 0s - loss: 0.5500 - acc: 0.8148 - val_loss: 0.5437 - val_acc: 0.8162\n",
      "Epoch 7/10\n",
      " - 0s - loss: 0.5564 - acc: 0.8231 - val_loss: 0.5354 - val_acc: 0.8501\n",
      "Epoch 8/10\n",
      " - 0s - loss: 0.5493 - acc: 0.8238 - val_loss: 0.5389 - val_acc: 0.8283\n",
      "Epoch 9/10\n",
      " - 0s - loss: 0.5487 - acc: 0.8251 - val_loss: 0.5339 - val_acc: 0.8335\n",
      "Epoch 10/10\n",
      " - 0s - loss: 0.5504 - acc: 0.8239 - val_loss: 0.5304 - val_acc: 0.8391\n"
     ]
    },
    {
     "data": {
      "text/plain": [
       "<keras.callbacks.History at 0x27cab160dd8>"
      ]
     },
     "execution_count": 48,
     "metadata": {},
     "output_type": "execute_result"
    }
   ],
   "source": [
    "NAME = 'test-{}'.format(int(time.time()))\n",
    "tensorboard = TensorBoard(log_dir='.logs/10_3232_{}'.format(NAME))\n",
    "model.fit(X_train, y_train,\n",
    "          shuffle=True,\n",
    "          class_weight=wght,\n",
    "          validation_split=0.3,\n",
    "          epochs=10,\n",
    "          batch_size=128,\n",
    "          verbose=2,\n",
    "          callbacks=[tensorboard])"
   ]
  },
  {
   "cell_type": "markdown",
   "metadata": {},
   "source": [
    "## Model Evaluation. (Not really needed)"
   ]
  },
  {
   "cell_type": "code",
   "execution_count": 49,
   "metadata": {},
   "outputs": [
    {
     "name": "stdout",
     "output_type": "stream",
     "text": [
      "20594/20594 [==============================] - 0s 6us/step\n"
     ]
    }
   ],
   "source": [
    "score = model.evaluate(X_test, y_test, batch_size=128)"
   ]
  },
  {
   "cell_type": "code",
   "execution_count": 50,
   "metadata": {
    "scrolled": true
   },
   "outputs": [
    {
     "name": "stdout",
     "output_type": "stream",
     "text": [
      "Test accuracy: 0.8367000096247383\n"
     ]
    }
   ],
   "source": [
    "print('Test accuracy:', score[1])"
   ]
  },
  {
   "cell_type": "markdown",
   "metadata": {},
   "source": [
    "## Predictions"
   ]
  },
  {
   "cell_type": "code",
   "execution_count": 51,
   "metadata": {},
   "outputs": [],
   "source": [
    "final_preds = pd.DataFrame(model.predict(X_test), index=y_test.index)\n",
    "# Predict without setting threshold: \n",
    "#         final_preds = pd.DataFrame(model.predict_classes(X_test), index=y_test.index)"
   ]
  },
  {
   "cell_type": "code",
   "execution_count": 52,
   "metadata": {},
   "outputs": [],
   "source": [
    "final_preds[final_preds<0.4]=0"
   ]
  },
  {
   "cell_type": "code",
   "execution_count": 53,
   "metadata": {},
   "outputs": [],
   "source": [
    "final_preds[final_preds>=0.4]=1"
   ]
  },
  {
   "cell_type": "code",
   "execution_count": 54,
   "metadata": {},
   "outputs": [],
   "source": [
    "final_preds=final_preds.astype('int64')"
   ]
  },
  {
   "cell_type": "code",
   "execution_count": 55,
   "metadata": {},
   "outputs": [],
   "source": [
    "cm = confusion_matrix(y_true=y_test, y_pred=final_preds)"
   ]
  },
  {
   "cell_type": "code",
   "execution_count": 56,
   "metadata": {},
   "outputs": [
    {
     "data": {
      "text/plain": [
       "array([[15090,  3160],\n",
       "       [  843,  1501]], dtype=int64)"
      ]
     },
     "execution_count": 56,
     "metadata": {},
     "output_type": "execute_result"
    }
   ],
   "source": [
    "cm"
   ]
  },
  {
   "cell_type": "code",
   "execution_count": 57,
   "metadata": {},
   "outputs": [
    {
     "name": "stdout",
     "output_type": "stream",
     "text": [
      "              precision    recall  f1-score   support\n",
      "\n",
      "           0       0.95      0.83      0.88     18250\n",
      "           1       0.32      0.64      0.43      2344\n",
      "\n",
      "   micro avg       0.81      0.81      0.81     20594\n",
      "   macro avg       0.63      0.73      0.66     20594\n",
      "weighted avg       0.88      0.81      0.83     20594\n",
      "\n"
     ]
    }
   ],
   "source": [
    "print(classification_report(y_test, final_preds))"
   ]
  },
  {
   "cell_type": "markdown",
   "metadata": {},
   "source": [
    "## Metrics needs to be better. (Either pick precision or recall)"
   ]
  },
  {
   "cell_type": "code",
   "execution_count": null,
   "metadata": {},
   "outputs": [],
   "source": []
  }
 ],
 "metadata": {
  "kernelspec": {
   "display_name": "Python 3",
   "language": "python",
   "name": "python3"
  },
  "language_info": {
   "codemirror_mode": {
    "name": "ipython",
    "version": 3
   },
   "file_extension": ".py",
   "mimetype": "text/x-python",
   "name": "python",
   "nbconvert_exporter": "python",
   "pygments_lexer": "ipython3",
   "version": "3.6.6"
  }
 },
 "nbformat": 4,
 "nbformat_minor": 2
}
